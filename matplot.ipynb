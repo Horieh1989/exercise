{
 "cells": [
  {
   "cell_type": "markdown",
   "id": "18027ec1",
   "metadata": {},
   "source": [
    "import matplotlib.pyplot as plt\n",
    "scatter plot"
   ]
  }
 ],
 "metadata": {
  "language_info": {
   "name": "python"
  }
 },
 "nbformat": 4,
 "nbformat_minor": 5
}
